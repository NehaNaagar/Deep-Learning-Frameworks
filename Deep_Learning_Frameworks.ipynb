{
  "nbformat": 4,
  "nbformat_minor": 0,
  "metadata": {
    "colab": {
      "provenance": []
    },
    "kernelspec": {
      "name": "python3",
      "display_name": "Python 3"
    },
    "language_info": {
      "name": "python"
    }
  },
  "cells": [
    {
      "cell_type": "markdown",
      "source": [
        "# Deep Learning Frameworks"
      ],
      "metadata": {
        "id": "P846Sf-5JNcV"
      }
    },
    {
      "cell_type": "markdown",
      "source": [
        "1. What is TensorFlow 2.0, and how is it different from TensorFlow 1.x?\n",
        "\n",
        "-TensorFlow 2.0 is a major release of the TensorFlow framework, which brings significant improvements and changes compared to TensorFlow 1.x. Key differences include:\n",
        "- Eager execution by default\n",
        "- Simplified API and reduced complexity\n",
        "- Improved performance and scalability\n",
        "- Better support for Keras and other high-level APIs\n"
      ],
      "metadata": {
        "id": "QdCwhWAWJN0e"
      }
    },
    {
      "cell_type": "markdown",
      "source": [
        "2. How do you install TensorFlow 2.0?\n",
        "\n",
        "- You can install TensorFlow 2.0 using pip:\n",
        "\n",
        "pip install tensorflow\n",
        "\n",
        "Make sure your Python version is compatible (Python 3.5 or later).\n"
      ],
      "metadata": {
        "id": "mup189AwJN3t"
      }
    },
    {
      "cell_type": "markdown",
      "source": [
        "3. What is the primary function of the tf.function in TensorFlow 2.0?\n",
        "\n",
        "- tf.function is a decorator that converts a Python function into a TensorFlow graph function. This improves performance by allowing TensorFlow to optimize and execute the function more efficiently.\n"
      ],
      "metadata": {
        "id": "YHw9ULQkJN7H"
      }
    },
    {
      "cell_type": "markdown",
      "source": [
        "4. What is the purpose of the Model class in TensorFlow 2.0?\n",
        "\n",
        "- The Model class in TensorFlow 2.0 is a part of the Keras API. It provides a high-level interface for building, training, and evaluating deep learning models. You can define a model using the Sequential API or the functional API.\n"
      ],
      "metadata": {
        "id": "w9u5q48jK2Mr"
      }
    },
    {
      "cell_type": "markdown",
      "source": [
        "5. How do you create a neural network using TensorFlow 2.0?\n",
        "\n",
        "- You can create a neural network using the Keras API in TensorFlow 2.0:\n",
        "\n",
        "import tensorflow as tf\n",
        "from tensorflow import keras\n",
        "\n",
        "model = keras.Sequential([\n",
        "    keras.layers.Dense(64, activation='relu', input_shape=(784,)),\n",
        "    keras.layers.Dense(32, activation='relu'),\n",
        "    keras.layers.Dense(10, activation='softmax')\n",
        "])\n",
        "\n"
      ],
      "metadata": {
        "id": "m0ehPSiEK2kP"
      }
    },
    {
      "cell_type": "markdown",
      "source": [
        "6. What is the importance of Tensor Space in TensorFlow?\n",
        "\n",
        "- TensorFlow's tensor operations are fundamental to its functionality. Tensors are multi-dimensional arrays that represent data in TensorFlow. Tensor operations enable the framework to perform complex computations and transformations on data.\n"
      ],
      "metadata": {
        "id": "5azUT3ZFK2ns"
      }
    },
    {
      "cell_type": "markdown",
      "source": [
        "7. How can TensorBoard be integrated with TensorFlow 2.0?\n",
        "\n",
        "- TensorBoard is a visualization tool that can be integrated with TensorFlow 2.0 to visualize metrics, model graphs, and other data. You can use the tf.keras.callbacks.TensorBoard callback to log data to TensorBoard during training.\n"
      ],
      "metadata": {
        "id": "rBQRZE8VK2rF"
      }
    },
    {
      "cell_type": "markdown",
      "source": [
        "8. What is the purpose of TensorFlow Playground?\n",
        "\n",
        "- TensorFlow Playground is an interactive visualization tool that allows users to experiment with neural networks and understand how different architectures and hyperparameters affect model performance.\n"
      ],
      "metadata": {
        "id": "DNXhJdqxK2t3"
      }
    },
    {
      "cell_type": "markdown",
      "source": [
        "9. What is Netron, and how is it useful for deep learning models?\n",
        "\n",
        "- Netron is a viewer for neural network models. It allows users to visualize and inspect model architectures, weights, and other details. Netron supports various model formats, including TensorFlow.\n"
      ],
      "metadata": {
        "id": "AKpaPeAtK2xU"
      }
    },
    {
      "cell_type": "markdown",
      "source": [
        "10. What is the difference between TensorFlow and PyTorch?\n",
        "\n",
        "-TensorFlow and PyTorch are both popular deep learning frameworks. Key differences include:\n",
        "- TensorFlow is more mature and widely adopted, while PyTorch is known for its ease of use and rapid prototyping capabilities.\n",
        "- TensorFlow has better support for production deployment and scalability, while PyTorch is popular among researchers and academics.\n",
        "- TensorFlow has a more extensive set of tools and libraries, including TensorBoard and TensorFlow Lite, while PyTorch has a more Pythonic API and better support for dynamic computation graphs."
      ],
      "metadata": {
        "id": "s5C4U1GtLPiV"
      }
    },
    {
      "cell_type": "markdown",
      "source": [
        "11. How do you install PyTorch?\n",
        "\n",
        "- We can install PyTorch using pip or conda:\n",
        "\n",
        "bash\n",
        "pip install torch torchvision\n",
        "\n",
        "or\n",
        "\n",
        "bash\n",
        "conda install pytorch torchvision cpuonly -c pytorch\n",
        "\n",
        "Make sure to check the PyTorch website for the most up-to-date installation instructions.\n"
      ],
      "metadata": {
        "id": "8KbaUwMxLqa3"
      }
    },
    {
      "cell_type": "markdown",
      "source": [
        "\n",
        "12. What is the basic structure of a PyTorch neural network?\n",
        "\n",
        "-A PyTorch neural network typically consists of:\n",
        "- Defining a model class that inherits from nn.Module\n",
        "- Initializing layers in the __init__ method\n",
        "- Defining the forward pass in the forward method\n",
        "- Instantiating the model and defining a loss function and optimizer\n"
      ],
      "metadata": {
        "id": "4V8VIGFGLqdw"
      }
    },
    {
      "cell_type": "markdown",
      "source": [
        "\n",
        "13. What is the significance of tensors in PyTorch?\n",
        "\n",
        "- Tensors are multi-dimensional arrays that represent data in PyTorch. They are the fundamental data structure in PyTorch and are used to store and manipulate data.\n"
      ],
      "metadata": {
        "id": "67sEIa5RLqgj"
      }
    },
    {
      "cell_type": "markdown",
      "source": [
        "\n",
        "14. What is the difference between torch.Tensor and torch.cuda.Tensor in PyTorch?\n",
        "\n",
        "- torch.Tensor is a tensor that resides in main memory (RAM), while torch.cuda.Tensor is a tensor that resides in GPU memory. torch.cuda.Tensor is used to accelerate computations on NVIDIA GPUs.\n"
      ],
      "metadata": {
        "id": "61a9-wVWLqjX"
      }
    },
    {
      "cell_type": "markdown",
      "source": [
        "\n",
        "15. What is the purpose of the torch.optim module in PyTorch?\n",
        "\n",
        "- The torch.optim module provides various optimization algorithms for training neural networks, such as stochastic gradient descent (SGD), Adam, and RMSprop. These optimizers update the model's parameters to minimize the loss function.\n"
      ],
      "metadata": {
        "id": "hIaLMJSzLqmC"
      }
    },
    {
      "cell_type": "markdown",
      "source": [
        "\n",
        "16. What are some common activation functions used in neural networks?\n",
        "\n",
        "-Common activation functions include:\n",
        "- ReLU (Rectified Linear Unit)\n",
        "- Sigmoid\n",
        "- Tanh\n",
        "- Softmax\n"
      ],
      "metadata": {
        "id": "1I_GF7IbLqoh"
      }
    },
    {
      "cell_type": "markdown",
      "source": [
        "\n",
        "17. What is the difference between torch.nn.Module and torch.nn.Sequential in PyTorch?\n",
        "\n",
        "- torch.nn.Module is a base class for all neural network modules, while torch.nn.Sequential is a container that holds a sequence of modules. torch.nn.Sequential is a simpler way to define a neural network, but torch.nn.Module provides more flexibility.\n"
      ],
      "metadata": {
        "id": "Y5c1ibKuLqrF"
      }
    },
    {
      "cell_type": "markdown",
      "source": [
        "\n",
        "18. How can you monitor training progress in TensorFlow 2.0?\n",
        "\n",
        "-You can monitor training progress in TensorFlow 2.0 using:\n",
        "- TensorBoard: a visualization tool that logs metrics and model graphs\n",
        "- Keras callbacks: allows you to execute custom code during training\n",
        "- Printing metrics: you can print metrics such as loss and accuracy during training\n"
      ],
      "metadata": {
        "id": "r-wTAh3ILqub"
      }
    },
    {
      "cell_type": "markdown",
      "source": [
        "\n",
        "19. How does the Keras API fit into TensorFlow 2.0?\n",
        "\n",
        "- The Keras API is a high-level API for building and training deep learning models. In TensorFlow 2.0, Keras is the default API for building models, and it provides a simple and intuitive way to define and train models.\n"
      ],
      "metadata": {
        "id": "Zo-5CDX6Nq4L"
      }
    },
    {
      "cell_type": "markdown",
      "source": [
        "\n",
        "20. What is an example of a deep learning project that can be implemented using TensorFlow 2.0?\n",
        "\n",
        "- An example project is image classification using convolutional neural networks (CNNs). You can use TensorFlow 2.0 to build a CNN model that classifies images into different categories.\n"
      ],
      "metadata": {
        "id": "QOilR8f2Nq7e"
      }
    },
    {
      "cell_type": "markdown",
      "source": [
        "\n",
        "21. What is the main advantage of using pre-trained models in TensorFlow and PyTorch?\n",
        "\n",
        "- The main advantage of using pre-trained models is that they can be fine-tuned for specific tasks with limited data, saving time and resources. Pre-trained models have already learned general features from large datasets and can be adapted to new tasks with minimal training."
      ],
      "metadata": {
        "id": "py2e8hDpNq-z"
      }
    },
    {
      "cell_type": "markdown",
      "source": [
        "# Practical"
      ],
      "metadata": {
        "id": "qhj3XkKsORgu"
      }
    },
    {
      "cell_type": "code",
      "source": [
        "# 1. How do you install and verify that TensorFlow 2.0 was installed successfully?\n",
        "\n",
        "import tensorflow as tf\n",
        "print(tf.__version__)"
      ],
      "metadata": {
        "colab": {
          "base_uri": "https://localhost:8080/"
        },
        "id": "qnqmkD5OOZSm",
        "outputId": "a8e58b20-7b5c-4db6-b104-907d6a95944a"
      },
      "execution_count": 10,
      "outputs": [
        {
          "output_type": "stream",
          "name": "stdout",
          "text": [
            "2.18.0\n"
          ]
        }
      ]
    },
    {
      "cell_type": "code",
      "source": [
        "# 2. How can you define a simple function in TensorFlow 2.0 to perform addition?\n",
        "\n",
        "import tensorflow as tf\n",
        "\n",
        "def add(a, b):\n",
        "    return tf.add(a, b)\n",
        "\n",
        "result = add(2, 3)\n",
        "print(result)"
      ],
      "metadata": {
        "colab": {
          "base_uri": "https://localhost:8080/"
        },
        "id": "1Cvc2YG7OZyU",
        "outputId": "c683e582-756b-4fe8-c6a8-a9be51a50a86"
      },
      "execution_count": 11,
      "outputs": [
        {
          "output_type": "stream",
          "name": "stdout",
          "text": [
            "tf.Tensor(5, shape=(), dtype=int32)\n"
          ]
        }
      ]
    },
    {
      "cell_type": "code",
      "source": [
        "# 3. How can you create a simple neural network in TensorFlow 2.0 with one hidden layer?\n",
        "\n",
        "import tensorflow as tf\n",
        "from tensorflow import keras\n",
        "\n",
        "model = keras.Sequential([\n",
        "    keras.layers.Dense(64, activation='relu', input_shape=(784,)),\n",
        "    keras.layers.Dense(10, activation='softmax')\n",
        "])"
      ],
      "metadata": {
        "colab": {
          "base_uri": "https://localhost:8080/"
        },
        "id": "7bhJ92xWOZ04",
        "outputId": "8cad0aa7-4b55-4069-db76-68ef43ee91de"
      },
      "execution_count": 12,
      "outputs": [
        {
          "output_type": "stream",
          "name": "stderr",
          "text": [
            "/usr/local/lib/python3.11/dist-packages/keras/src/layers/core/dense.py:87: UserWarning: Do not pass an `input_shape`/`input_dim` argument to a layer. When using Sequential models, prefer using an `Input(shape)` object as the first layer in the model instead.\n",
            "  super().__init__(activity_regularizer=activity_regularizer, **kwargs)\n"
          ]
        }
      ]
    },
    {
      "cell_type": "code",
      "source": [
        "# 4. How can you visualize the training progress using TensorFlow and Matplotlib?\n",
        "\n",
        "import matplotlib.pyplot as plt\n",
        "import tensorflow as tf\n",
        "from tensorflow import keras\n",
        "\n",
        "# Load and preprocess the data (restored from previous steps)\n",
        "(x_train, y_train), (x_test, y_test) = tf.keras.datasets.mnist.load_data()\n",
        "\n",
        "# Preprocess the data\n",
        "x_train = x_train.reshape(-1, 784).astype('float32') / 255.0\n",
        "x_test = x_test.reshape(-1, 784).astype('float32') / 255.0\n",
        "\n",
        "# Convert labels to one-hot encoding\n",
        "y_train = tf.keras.utils.to_categorical(y_train, num_classes=10)\n",
        "y_test = tf.keras.utils.to_categorical(y_test, num_classes=10)\n",
        "\n",
        "\n",
        "# Define the model\n",
        "model = keras.Sequential([\n",
        "    keras.layers.Input(shape=(784,)), # Use Input layer for specifying input shape\n",
        "    keras.layers.Dense(64, activation='relu'),\n",
        "    keras.layers.Dense(10, activation='softmax')\n",
        "])\n",
        "\n",
        "# Compile the model\n",
        "model.compile(optimizer='adam', loss='categorical_crossentropy', metrics=['accuracy'])\n",
        "\n",
        "# Train the model using the loaded data and store the history\n",
        "history = model.fit(x_train, y_train, epochs=10, validation_data=(x_test, y_test))\n",
        "\n",
        "# Plot the training and validation loss\n",
        "plt.plot(history.history['loss'], label='Training Loss')\n",
        "plt.plot(history.history['val_loss'], label='Validation Loss')\n",
        "plt.xlabel('Epoch')\n",
        "plt.ylabel('Loss')\n",
        "plt.title('Training and Validation Loss')\n",
        "plt.legend()\n",
        "plt.show()\n",
        "\n",
        "# Plot the training and validation accuracy\n",
        "plt.plot(history.history['accuracy'], label='Training Accuracy')\n",
        "plt.plot(history.history['val_accuracy'], label='Validation Accuracy')\n",
        "plt.xlabel('Epoch')\n",
        "plt.ylabel('Accuracy')\n",
        "plt.title('Training and Validation Accuracy')\n",
        "plt.legend()\n",
        "plt.show()"
      ],
      "metadata": {
        "colab": {
          "base_uri": "https://localhost:8080/"
        },
        "id": "6y3ynoxdOZ4P",
        "outputId": "795ce7a8-749c-41f1-c425-ae43397778c6"
      },
      "execution_count": null,
      "outputs": [
        {
          "output_type": "stream",
          "name": "stdout",
          "text": [
            "Epoch 1/10\n",
            "\u001b[1m1875/1875\u001b[0m \u001b[32m━━━━━━━━━━━━━━━━━━━━\u001b[0m\u001b[37m\u001b[0m \u001b[1m6s\u001b[0m 2ms/step - accuracy: 0.8532 - loss: 0.5155 - val_accuracy: 0.9409 - val_loss: 0.1989\n",
            "Epoch 2/10\n",
            "\u001b[1m1803/1875\u001b[0m \u001b[32m━━━━━━━━━━━━━━━━━━━\u001b[0m\u001b[37m━\u001b[0m \u001b[1m0s\u001b[0m 3ms/step - accuracy: 0.9518 - loss: 0.1660"
          ]
        }
      ]
    },
    {
      "cell_type": "code",
      "source": [
        "# 5. How do you install PyTorch and verify the PyTorch installation?\n",
        "\n",
        "import torch\n",
        "print(torch.__version__)"
      ],
      "metadata": {
        "colab": {
          "base_uri": "https://localhost:8080/"
        },
        "id": "fTfa9I80PvVG",
        "outputId": "52a05178-3b71-43b5-a5a5-8f10a989bc52"
      },
      "execution_count": 21,
      "outputs": [
        {
          "output_type": "stream",
          "name": "stdout",
          "text": [
            "2.6.0+cu124\n"
          ]
        }
      ]
    },
    {
      "cell_type": "code",
      "source": [
        "# 6. How do you create a simple neural network in PyTorch?\n",
        "import torch\n",
        "import torch.nn as nn\n",
        "\n",
        "# Define a simple neural network\n",
        "class Net(nn.Module):\n",
        "    def __init__(self):\n",
        "        super(Net, self).__init__()\n",
        "        self.fc1 = nn.Linear(784, 128)  # input layer (28x28 images) -> hidden layer (128 units)\n",
        "        self.fc2 = nn.Linear(128, 10)  # hidden layer (128 units) -> output layer (10 units)\n",
        "\n",
        "    def forward(self, x):\n",
        "        x = torch.relu(self.fc1(x))  # activation function for hidden layer\n",
        "        x = self.fc2(x)\n",
        "        return x\n",
        "\n",
        "# Initialize the model\n",
        "model = Net()\n"
      ],
      "metadata": {
        "id": "EQo6IC-PPvXx"
      },
      "execution_count": 39,
      "outputs": []
    },
    {
      "cell_type": "code",
      "source": [
        "# 7. How do you define a loss function and optimizer in PyTorch?\n",
        "import torch\n",
        "import torch.nn as nn\n",
        "import torch.optim as optim\n",
        "\n",
        "# Define a simple model (assuming Net class is defined in a previous cell)\n",
        "class Net(nn.Module):\n",
        "    def __init__(self):\n",
        "        super(Net, self).__init__()\n",
        "        self.fc1 = nn.Linear(784, 128)\n",
        "        self.fc2 = nn.Linear(128, 10)\n",
        "\n",
        "    def forward(self, x):\n",
        "        x = torch.relu(self.fc1(x))\n",
        "        x = self.fc2(x)\n",
        "        return x\n",
        "\n",
        "model = Net()\n",
        "\n",
        "# Define a loss function and optimizer\n",
        "criterion = nn.CrossEntropyLoss()\n",
        "optimizer = optim.SGD(model.parameters(), lr=0.01)\n",
        "\n",
        "# Train the model (example with placeholder tensors)\n",
        "# In a real scenario, you would load your data and iterate through batches\n",
        "inputs = torch.randn(64, 784)  # Example random input tensor (batch size 64, input size 784)\n",
        "labels = torch.randint(0, 10, (64,)) # Example random label tensor (batch size 64, with 10 classes)\n",
        "\n",
        "\n",
        "for epoch in range(10):\n",
        "    optimizer.zero_grad()\n",
        "    outputs = model(inputs)\n",
        "    loss = criterion(outputs, labels)\n",
        "    loss.backward()\n",
        "    optimizer.step()\n",
        "    print('Epoch {}: Loss = {:.4f}'.format(epoch+1, loss.item()))"
      ],
      "metadata": {
        "colab": {
          "base_uri": "https://localhost:8080/"
        },
        "id": "YOkNFt2vPvbJ",
        "outputId": "8ede298c-5e37-4a00-880c-e82c671109a1"
      },
      "execution_count": 38,
      "outputs": [
        {
          "output_type": "stream",
          "name": "stdout",
          "text": [
            "Epoch 1: Loss = 2.3593\n",
            "Epoch 2: Loss = 2.3365\n",
            "Epoch 3: Loss = 2.3140\n",
            "Epoch 4: Loss = 2.2917\n",
            "Epoch 5: Loss = 2.2698\n",
            "Epoch 6: Loss = 2.2480\n",
            "Epoch 7: Loss = 2.2265\n",
            "Epoch 8: Loss = 2.2052\n",
            "Epoch 9: Loss = 2.1841\n",
            "Epoch 10: Loss = 2.1633\n"
          ]
        }
      ]
    },
    {
      "cell_type": "code",
      "source": [
        "# 8. How do you implement a custom loss function in PyTorch?\n",
        "\n",
        "import torch\n",
        "import torch.nn as nn\n",
        "\n",
        "class CustomLoss(nn.Module):\n",
        "    def __init__(self):\n",
        "        super(CustomLoss, self).__init__()\n",
        "\n",
        "    def forward(self, output, target):\n",
        "        # Compute the custom loss\n",
        "        loss = torch.mean((output - target) ** 2)\n",
        "        return loss\n",
        "\n",
        "# Usage with example tensors\n",
        "criterion = CustomLoss()\n",
        "\n",
        "# Example output and target tensors\n",
        "output = torch.randn(10, 1)  # Example model output\n",
        "target = torch.randn(10, 1)  # Example target values\n",
        "\n",
        "loss = criterion(output, target)\n",
        "print(f\"Custom Loss: {loss.item()}\")"
      ],
      "metadata": {
        "colab": {
          "base_uri": "https://localhost:8080/"
        },
        "id": "WwbiTWChQA1y",
        "outputId": "f62cc480-d8aa-411b-cc62-5ff4db5f350e"
      },
      "execution_count": 34,
      "outputs": [
        {
          "output_type": "stream",
          "name": "stdout",
          "text": [
            "Custom Loss: 2.0694198608398438\n"
          ]
        }
      ]
    },
    {
      "cell_type": "code",
      "source": [
        "# 9. How do you save and load a PyTorch model?\n",
        "import torch\n",
        "import torch.nn as nn\n",
        "\n",
        "# Assuming you have a PyTorch model defined, for example:\n",
        "class SimpleModel(nn.Module):\n",
        "    def __init__(self):\n",
        "        super(SimpleModel, self).__init__()\n",
        "        self.fc = nn.Linear(10, 1)\n",
        "\n",
        "    def forward(self, x):\n",
        "        return self.fc(x)\n",
        "\n",
        "model = SimpleModel()\n",
        "\n",
        "# Save the model's state dictionary\n",
        "torch.save(model.state_dict(), 'simple_model.pth')\n",
        "\n",
        "# Load the model's state dictionary\n",
        "loaded_model = SimpleModel() # Create an instance of the model first\n",
        "loaded_model.load_state_dict(torch.load('simple_model.pth'))\n",
        "loaded_model.eval() # Set the model to evaluation mode\n",
        "\n",
        "print(\"PyTorch model saved and loaded successfully.\")"
      ],
      "metadata": {
        "colab": {
          "base_uri": "https://localhost:8080/"
        },
        "id": "-e1vb-WKQA_I",
        "outputId": "40cee43c-f348-4620-962d-78ace7827113"
      },
      "execution_count": 36,
      "outputs": [
        {
          "output_type": "stream",
          "name": "stdout",
          "text": [
            "PyTorch model saved and loaded successfully.\n"
          ]
        }
      ]
    }
  ]
}